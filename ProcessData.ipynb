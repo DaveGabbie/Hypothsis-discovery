{
 "cells": [
  {
   "cell_type": "code",
   "execution_count": 1,
   "metadata": {
    "collapsed": true
   },
   "outputs": [],
   "source": [
    "f = open(\"C:/Users/Dave/Desktop/Data2/TrainingData/relation2id.txt\",\"r\")\n",
    "relation2id = {}\n",
    "id2relation = {}\n",
    "relation_num = 0\n",
    "for line in f:\n",
    "    seg = line.strip().split()\n",
    "    relation2id[seg[0]] = int(seg[1])\n",
    "    id2relation[int(seg[1])]=seg[0]\n",
    "    relation_num+=1"
   ]
  },
  {
   "cell_type": "code",
   "execution_count": 2,
   "metadata": {},
   "outputs": [
    {
     "data": {
      "text/plain": [
       "52"
      ]
     },
     "execution_count": 2,
     "metadata": {},
     "output_type": "execute_result"
    }
   ],
   "source": [
    "relation_num"
   ]
  },
  {
   "cell_type": "code",
   "execution_count": 3,
   "metadata": {
    "collapsed": true
   },
   "outputs": [],
   "source": [
    "f = open(\"C:/Users/Dave/Desktop/Data2/TrainingData/entity2id.txt\",\"r\")\n",
    "entity2id = {}\n",
    "id2entity = {}\n",
    "entity_num = 0\n",
    "for line in f:\n",
    "    seg = line.strip().split()\n",
    "    entity2id[seg[0]] = int(seg[1])\n",
    "    id2entity[int(seg[1])]=seg[0]\n",
    "    entity_num+=1"
   ]
  },
  {
   "cell_type": "code",
   "execution_count": 4,
   "metadata": {},
   "outputs": [
    {
     "data": {
      "text/plain": [
       "1067091"
      ]
     },
     "execution_count": 4,
     "metadata": {},
     "output_type": "execute_result"
    }
   ],
   "source": [
    "entity_num"
   ]
  },
  {
   "cell_type": "code",
   "execution_count": 5,
   "metadata": {
    "collapsed": true
   },
   "outputs": [],
   "source": [
    "f = open(\"C:/Users/Dave/Desktop/Data2/TrainingData/train.txt\",\"r\")\n",
    "g = open(\"C:/Users/Dave/Desktop/Data2/TrainingData/train2id.txt\",\"w\")\n",
    "train_num = 0\n",
    "\n",
    "for line in f:\n",
    "    train_num+=1\n",
    "    seg = line.strip().split()\n",
    "    g.write(str(entity2id[seg[0]])+\" \"+str(entity2id[seg[1]])+\" \"+str(relation2id[seg[2]])+\"\\n\")\n",
    "\n"
   ]
  },
  {
   "cell_type": "code",
   "execution_count": 13,
   "metadata": {
    "collapsed": true
   },
   "outputs": [],
   "source": [
    "f = open(\"C:/Users/Dave/Desktop/Data2/TrainingData/train.txt\",\"r\")\n",
    "g = open(\"C:/Users/Dave/Desktop/Data2/TrainingData/train2id.txt\",\"w\")\n",
    "train_num = 0\n",
    "traindit = {}\n",
    "for line in f:\n",
    "    seg = line.strip().split()\n",
    "    if (str(entity2id[seg[0]])+\" \"+str(entity2id[seg[1]])+\" \"+str(relation2id[seg[2]]) not in traindit):\n",
    "        traindit[str(entity2id[seg[0]])+\" \"+str(entity2id[seg[1]])+\" \"+str(relation2id[seg[2]])]={}\n",
    "        train_num+=1\n",
    "        if (train_num < 14419196):\n",
    "            g.write(str(entity2id[seg[0]])+\" \"+str(entity2id[seg[1]])+\" \"+str(relation2id[seg[2]])+\"\\n\")\n",
    "\n"
   ]
  },
  {
   "cell_type": "code",
   "execution_count": 10,
   "metadata": {},
   "outputs": [
    {
     "data": {
      "text/plain": [
       "14419349"
      ]
     },
     "execution_count": 10,
     "metadata": {},
     "output_type": "execute_result"
    }
   ],
   "source": [
    "len(traindit)"
   ]
  },
  {
   "cell_type": "code",
   "execution_count": 16,
   "metadata": {
    "collapsed": true
   },
   "outputs": [],
   "source": [
    "f = open(\"C:/Users/Dave/Desktop/Data2/TrainingData/train.txt\",\"r\")\n",
    "\n",
    "traindit = {}\n",
    "for line in f:\n",
    "    seg = line.strip().split()\n",
    "    if (str(seg) not in traindit):\n",
    "        traindit[str(seg)]={}\n",
    "\n",
    "\n",
    "\n"
   ]
  },
  {
   "cell_type": "code",
   "execution_count": 17,
   "metadata": {},
   "outputs": [
    {
     "data": {
      "text/plain": [
       "14419349"
      ]
     },
     "execution_count": 17,
     "metadata": {},
     "output_type": "execute_result"
    }
   ],
   "source": [
    "len(traindit)"
   ]
  },
  {
   "cell_type": "code",
   "execution_count": null,
   "metadata": {
    "collapsed": true
   },
   "outputs": [],
   "source": []
  }
 ],
 "metadata": {
  "kernelspec": {
   "display_name": "Python 3",
   "language": "python",
   "name": "python3"
  },
  "language_info": {
   "codemirror_mode": {
    "name": "ipython",
    "version": 3
   },
   "file_extension": ".py",
   "mimetype": "text/x-python",
   "name": "python",
   "nbconvert_exporter": "python",
   "pygments_lexer": "ipython3",
   "version": "3.6.3"
  }
 },
 "nbformat": 4,
 "nbformat_minor": 2
}
